{
 "cells": [
  {
   "cell_type": "markdown",
   "id": "f9101955-5891-437f-8108-13c53814a599",
   "metadata": {},
   "source": [
    "How to extract tags from the article fully automated with Python.\n",
    "MOTTO- Generally In an Article those words used more than two times that are tags and length of tags/words are greater than 3.   "
   ]
  },
  {
   "cell_type": "code",
   "execution_count": 87,
   "id": "caf811f9-ea3d-439e-9e90-27d45fcd9198",
   "metadata": {
    "scrolled": true,
    "tags": []
   },
   "outputs": [],
   "source": [
    "Article=\"Bogot, Colombian Amazon : Four Indigenous children lost in the Colombian Amazon since a plane crash almost a month ago are believed to still be alive, the military said as the search continued Monday in treacherous terrain The children who were aged 13, 9, 4 and 11 months when they went missing -- have wandered in the jungle sin ce a light aircraft crash in Colombias southeast on May 1 claimed the lives of the three adults on board: their mother Magdalena Mucutui Valencia, the pilot, and an Indigenous leader.\""
   ]
  },
  {
   "cell_type": "code",
   "execution_count": 88,
   "id": "70a74306-aef5-485e-8421-d4a64b620fd2",
   "metadata": {},
   "outputs": [
    {
     "name": "stdout",
     "output_type": "stream",
     "text": [
      "Indigenous\n",
      "children\n",
      "Colombian\n",
      "crash\n",
      "Amazon\n"
     ]
    }
   ],
   "source": [
    "PreTag = []\n",
    "for i in Article.split():\n",
    "    if (Article.split()).count(i) == 2:\n",
    "        PreTag.append(i)\n",
    "PreTag = set(PreTag)\n",
    "for Tag in PreTag:\n",
    "    if len(Tag)>3:\n",
    "        print(Tag)"
   ]
  },
  {
   "cell_type": "code",
   "execution_count": null,
   "id": "5c1b5a52-5ff1-4706-9385-f4266ae72cf6",
   "metadata": {},
   "outputs": [],
   "source": []
  },
  {
   "cell_type": "code",
   "execution_count": null,
   "id": "fa672662-d2da-4b4a-84d8-a85a69fed2e1",
   "metadata": {},
   "outputs": [],
   "source": []
  }
 ],
 "metadata": {
  "kernelspec": {
   "display_name": "Python 3 (ipykernel)",
   "language": "python",
   "name": "python3"
  },
  "language_info": {
   "codemirror_mode": {
    "name": "ipython",
    "version": 3
   },
   "file_extension": ".py",
   "mimetype": "text/x-python",
   "name": "python",
   "nbconvert_exporter": "python",
   "pygments_lexer": "ipython3",
   "version": "3.10.8"
  },
  "toc-autonumbering": false,
  "toc-showcode": true,
  "toc-showmarkdowntxt": true
 },
 "nbformat": 4,
 "nbformat_minor": 5
}
